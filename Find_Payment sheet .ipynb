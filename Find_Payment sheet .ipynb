{
 "cells": [
  {
   "cell_type": "code",
   "execution_count": 101,
   "id": "b32e85f7",
   "metadata": {},
   "outputs": [],
   "source": [
    "#importing libraries that I might use\n",
    "import pandas as pd \n",
    "from tabulate import tabulate\n",
    "import shutil\n",
    "import os\n",
    "from openpyxl import load_workbook"
   ]
  },
  {
   "cell_type": "code",
   "execution_count": 102,
   "id": "71282b06",
   "metadata": {},
   "outputs": [],
   "source": [
    "#creating a file path to the excel file Find Payment\n",
    "find_payment_file_path = '/Users/luisabarros/On demand project/Find_Payments.xlsx'"
   ]
  },
  {
   "cell_type": "code",
   "execution_count": 103,
   "id": "1933605d",
   "metadata": {},
   "outputs": [
    {
     "name": "stdout",
     "output_type": "stream",
     "text": [
      "                                              Payment  \\\n",
      "0                                                 NaN   \n",
      "1                                                 NaN   \n",
      "2                                                 NaN   \n",
      "3                                                 NaN   \n",
      "4                                                 NaN   \n",
      "5                                                 NaN   \n",
      "6                                                 NaN   \n",
      "7                                                 NaN   \n",
      "8                                                 NaN   \n",
      "9                                                 NaN   \n",
      "10        Payroll Payment: Kathy Gresser - 2024 01 12   \n",
      "11          Payroll Payment: Alisha Sedo - 2024 01 15   \n",
      "12        Payroll Payment: Johnathon Day - 2024 01 15   \n",
      "13        Payroll Payment: Johnathon Day - 2024 01 15   \n",
      "14  Payroll Payment: Jennifer Hutchinson - 2024 01 15   \n",
      "15           Payroll Payment: Amy Turner - 2024 01 15   \n",
      "16     Payroll Payment: Angela Hernandez - 2024 01 15   \n",
      "17    Payroll Payment: Michael C Chuckta - 2024 01 15   \n",
      "18      Payroll Payment: Patricia McCort - 2024 01 15   \n",
      "19     Payroll Payment: RaemaLynn Webber - 2024 01 15   \n",
      "20          Payroll Payment: Karissa Orr - 2024 01 16   \n",
      "21  Payroll Payment: Theresa Gates (Terminated) - ...   \n",
      "22  Payroll Payment: Michael Waddell (Terminated) ...   \n",
      "23  Payroll Payment: Michele Babin (Terminated) - ...   \n",
      "24  Payroll Payment: Brad Bates (Terminated) - 202...   \n",
      "25  Payroll Payment: Cynthia Morgan (Terminated) -...   \n",
      "\n",
      "             Payment Category                            Company  \\\n",
      "0                         NaN                                NaN   \n",
      "1                         NaN                                NaN   \n",
      "2                         NaN                                NaN   \n",
      "3                         NaN                                NaN   \n",
      "4                         NaN                                NaN   \n",
      "5                         NaN                                NaN   \n",
      "6                         NaN                                NaN   \n",
      "7                         NaN                                NaN   \n",
      "8                         NaN                                NaN   \n",
      "9                         NaN                                NaN   \n",
      "10  Payroll Off-Cycle Payment  LE0006 St. Vincent Home Care, LLC   \n",
      "11  Payroll Off-Cycle Payment  LE0006 St. Vincent Home Care, LLC   \n",
      "12  Payroll Off-Cycle Payment  LE0006 St. Vincent Home Care, LLC   \n",
      "13  Payroll Off-Cycle Payment  LE0006 St. Vincent Home Care, LLC   \n",
      "14  Payroll Off-Cycle Payment           LE0004 FC Compassus, LLC   \n",
      "15  Payroll Off-Cycle Payment           LE0004 FC Compassus, LLC   \n",
      "16  Payroll Off-Cycle Payment           LE0004 FC Compassus, LLC   \n",
      "17  Payroll Off-Cycle Payment           LE0004 FC Compassus, LLC   \n",
      "18  Payroll Off-Cycle Payment           LE0004 FC Compassus, LLC   \n",
      "19  Payroll Off-Cycle Payment  LE0006 St. Vincent Home Care, LLC   \n",
      "20  Payroll Off-Cycle Payment           LE0004 FC Compassus, LLC   \n",
      "21  Payroll Off-Cycle Payment           LE0004 FC Compassus, LLC   \n",
      "22  Payroll Off-Cycle Payment           LE0004 FC Compassus, LLC   \n",
      "23  Payroll Off-Cycle Payment  LE0006 St. Vincent Home Care, LLC   \n",
      "24  Payroll Off-Cycle Payment           LE0004 FC Compassus, LLC   \n",
      "25  Payroll Off-Cycle Payment           LE0004 FC Compassus, LLC   \n",
      "\n",
      "                 Status                 Payee / Payor Transaction Date  \\\n",
      "0                   NaN                           NaN              NaT   \n",
      "1                   NaN                           NaN              NaT   \n",
      "2                   NaN                           NaN              NaT   \n",
      "3                   NaN                           NaN              NaT   \n",
      "4                   NaN                           NaN              NaT   \n",
      "5                   NaN                           NaN              NaT   \n",
      "6                   NaN                           NaN              NaT   \n",
      "7                   NaN                           NaN              NaT   \n",
      "8                   NaN                           NaN              NaT   \n",
      "9                   NaN                           NaN              NaT   \n",
      "10  Awaiting Settlement                 Kathy Gresser       2024-01-12   \n",
      "11  Awaiting Settlement                   Alisha Sedo       2024-01-15   \n",
      "12  Awaiting Settlement                 Johnathon Day       2024-01-15   \n",
      "13  Awaiting Settlement                 Johnathon Day       2024-01-15   \n",
      "14  Awaiting Settlement           Jennifer Hutchinson       2024-01-15   \n",
      "15  Awaiting Settlement                    Amy Turner       2024-01-15   \n",
      "16  Awaiting Settlement              Angela Hernandez       2024-01-15   \n",
      "17  Awaiting Settlement             Michael C Chuckta       2024-01-15   \n",
      "18  Awaiting Settlement               Patricia McCort       2024-01-15   \n",
      "19  Awaiting Settlement              RaemaLynn Webber       2024-01-15   \n",
      "20  Awaiting Settlement                   Karissa Orr       2024-01-16   \n",
      "21  Awaiting Settlement    Theresa Gates (Terminated)       2024-01-19   \n",
      "22  Awaiting Settlement  Michael Waddell (Terminated)       2024-01-19   \n",
      "23  Awaiting Settlement    Michele Babin (Terminated)       2024-01-19   \n",
      "24  Awaiting Settlement       Brad Bates (Terminated)       2024-01-19   \n",
      "25  Awaiting Settlement   Cynthia Morgan (Terminated)       2024-01-19   \n",
      "\n",
      "    Payment Memo            Bank Account    Payment Type  Settlement Run  \\\n",
      "0            NaN                     NaN             NaN             NaN   \n",
      "1            NaN                     NaN             NaN             NaN   \n",
      "2            NaN                     NaN             NaN             NaN   \n",
      "3            NaN                     NaN             NaN             NaN   \n",
      "4            NaN                     NaN             NaN             NaN   \n",
      "5            NaN                     NaN             NaN             NaN   \n",
      "6            NaN                     NaN             NaN             NaN   \n",
      "7            NaN                     NaN             NaN             NaN   \n",
      "8            NaN                     NaN             NaN             NaN   \n",
      "9            NaN                     NaN             NaN             NaN   \n",
      "10           NaN  Alight Bank of America  Direct Deposit             NaN   \n",
      "11           NaN  Alight Bank of America  Direct Deposit             NaN   \n",
      "12           NaN  Alight Bank of America  Direct Deposit             NaN   \n",
      "13           NaN  Alight Bank of America  Direct Deposit             NaN   \n",
      "14           NaN  Alight Bank of America  Direct Deposit             NaN   \n",
      "15           NaN  Alight Bank of America  Direct Deposit             NaN   \n",
      "16           NaN  Alight Bank of America  Direct Deposit             NaN   \n",
      "17           NaN  Alight Bank of America  Direct Deposit             NaN   \n",
      "18           NaN  Alight Bank of America  Direct Deposit             NaN   \n",
      "19           NaN  Alight Bank of America  Direct Deposit             NaN   \n",
      "20           NaN  Alight Bank of America  Direct Deposit             NaN   \n",
      "21           NaN  Alight Bank of America  Direct Deposit             NaN   \n",
      "22           NaN  Alight Bank of America  Direct Deposit             NaN   \n",
      "23           NaN  Alight Bank of America  Direct Deposit             NaN   \n",
      "24           NaN  Alight Bank of America  Direct Deposit             NaN   \n",
      "25           NaN  Alight Bank of America  Direct Deposit             NaN   \n",
      "\n",
      "    Payment Group Transaction Reference  Payment Amount Currency  \\\n",
      "0             NaN                   NaN             NaN      NaN   \n",
      "1             NaN                   NaN             NaN      NaN   \n",
      "2             NaN                   NaN             NaN      NaN   \n",
      "3             NaN                   NaN             NaN      NaN   \n",
      "4             NaN                   NaN             NaN      NaN   \n",
      "5             NaN                   NaN             NaN      NaN   \n",
      "6             NaN                   NaN             NaN      NaN   \n",
      "7             NaN                   NaN             NaN      NaN   \n",
      "8             NaN                   NaN             NaN      NaN   \n",
      "9             NaN                   NaN             NaN      NaN   \n",
      "10            NaN          No Reference          512.73      USD   \n",
      "11            NaN          No Reference           25.97      USD   \n",
      "12            NaN          No Reference          548.34      USD   \n",
      "13            NaN          No Reference           96.77      USD   \n",
      "14            NaN          No Reference         1091.45      USD   \n",
      "15            NaN          No Reference          263.27      USD   \n",
      "16            NaN          No Reference           98.40      USD   \n",
      "17            NaN          No Reference         1976.21      USD   \n",
      "18            NaN          No Reference          144.48      USD   \n",
      "19            NaN          No Reference          999.62      USD   \n",
      "20            NaN          No Reference           95.04      USD   \n",
      "21            NaN          No Reference         2470.68      USD   \n",
      "22            NaN          No Reference         1555.86      USD   \n",
      "23            NaN          No Reference          805.61      USD   \n",
      "24            NaN          No Reference         1304.82      USD   \n",
      "25            NaN          No Reference         2603.24      USD   \n",
      "\n",
      "   Reconciliation Status                                             Period  \\\n",
      "0                    NaN                                                NaN   \n",
      "1                    NaN                                                NaN   \n",
      "2                    NaN                                                NaN   \n",
      "3                    NaN                                                NaN   \n",
      "4                    NaN                                                NaN   \n",
      "5                    NaN                                                NaN   \n",
      "6                    NaN                                                NaN   \n",
      "7                    NaN                                                NaN   \n",
      "8                    NaN                                                NaN   \n",
      "9                    NaN                                                NaN   \n",
      "10          Unreconciled  01/01/2024 - 01/07/2024  (Weekly Period Schedule)   \n",
      "11          Unreconciled  01/08/2024 - 01/14/2024  (Weekly Period Schedule)   \n",
      "12          Unreconciled  01/08/2024 - 01/14/2024  (Weekly Period Schedule)   \n",
      "13          Unreconciled  01/08/2024 - 01/14/2024  (Weekly Period Schedule)   \n",
      "14          Unreconciled  01/08/2024 - 01/14/2024  (Weekly Period Schedule)   \n",
      "15          Unreconciled  01/08/2024 - 01/14/2024  (Weekly Period Schedule)   \n",
      "16          Unreconciled  01/08/2024 - 01/14/2024  (Weekly Period Schedule)   \n",
      "17          Unreconciled  01/08/2024 - 01/14/2024  (Weekly Period Schedule)   \n",
      "18          Unreconciled  01/08/2024 - 01/14/2024  (Weekly Period Schedule)   \n",
      "19          Unreconciled  01/08/2024 - 01/14/2024  (Weekly Period Schedule)   \n",
      "20          Unreconciled  01/01/2024 - 01/07/2024  (Weekly Period Schedule)   \n",
      "21          Unreconciled  01/01/2024 - 01/14/2024  (Week B Payroll Perio...   \n",
      "22          Unreconciled  01/08/2024 - 01/14/2024  (Weekly Period Schedule)   \n",
      "23          Unreconciled  01/01/2024 - 01/14/2024  (Week B Payroll Perio...   \n",
      "24          Unreconciled  01/08/2024 - 01/14/2024  (Weekly Period Schedule)   \n",
      "25          Unreconciled  01/08/2024 - 01/14/2024  (Weekly Period Schedule)   \n",
      "\n",
      "                    Pay Group                                    Result Type  \n",
      "0                         NaN                                            NaN  \n",
      "1                         NaN                                            NaN  \n",
      "2                         NaN                                            NaN  \n",
      "3                         NaN                                            NaN  \n",
      "4                         NaN                                            NaN  \n",
      "5                         NaN                                            NaN  \n",
      "6                         NaN                                            NaN  \n",
      "7                         NaN                                            NaN  \n",
      "8                         NaN                                            NaN  \n",
      "9                         NaN                                            NaN  \n",
      "10    Weekly Hourly Pay Group  On Demand Payment - Additional (Prior Period)  \n",
      "11    Weekly Hourly Pay Group                 On Demand Payment - Additional  \n",
      "12    Weekly Hourly Pay Group                 On Demand Payment - Additional  \n",
      "13    Weekly Hourly Pay Group                 On Demand Payment - Additional  \n",
      "14  Weekly Salaried Pay Group                 On Demand Payment - Additional  \n",
      "15    Weekly Hourly Pay Group                 On Demand Payment - Additional  \n",
      "16    Weekly Hourly Pay Group                 On Demand Payment - Additional  \n",
      "17    Weekly Hourly Pay Group                 On Demand Payment - Additional  \n",
      "18    Weekly Hourly Pay Group                 On Demand Payment - Additional  \n",
      "19    Weekly Hourly Pay Group                 On Demand Payment - Additional  \n",
      "20    Weekly Hourly Pay Group  On Demand Payment - Additional (Prior Period)  \n",
      "21  History - Week B Salaried                 On Demand Payment - Additional  \n",
      "22  Weekly Salaried Pay Group                 On Demand Payment - Additional  \n",
      "23  History - Week B Salaried                 On Demand Payment - Additional  \n",
      "24  Weekly Salaried Pay Group                 On Demand Payment - Additional  \n",
      "25  Weekly Salaried Pay Group                 On Demand Payment - Additional  \n"
     ]
    }
   ],
   "source": [
    "#creating a data frame\n",
    "df = pd.read_excel(find_payment_file_path)\n",
    "print(df)"
   ]
  },
  {
   "cell_type": "code",
   "execution_count": 104,
   "id": "46125efe",
   "metadata": {},
   "outputs": [
    {
     "name": "stdout",
     "output_type": "stream",
     "text": [
      "                              Company               Status Transaction Date  \\\n",
      "0                                 NaN                  NaN              NaT   \n",
      "1                                 NaN                  NaN              NaT   \n",
      "2                                 NaN                  NaN              NaT   \n",
      "3                                 NaN                  NaN              NaT   \n",
      "4                                 NaN                  NaN              NaT   \n",
      "5                                 NaN                  NaN              NaT   \n",
      "6                                 NaN                  NaN              NaT   \n",
      "7                                 NaN                  NaN              NaT   \n",
      "8                                 NaN                  NaN              NaT   \n",
      "9                                 NaN                  NaN              NaT   \n",
      "10  LE0006 St. Vincent Home Care, LLC  Awaiting Settlement       2024-01-12   \n",
      "11  LE0006 St. Vincent Home Care, LLC  Awaiting Settlement       2024-01-15   \n",
      "12  LE0006 St. Vincent Home Care, LLC  Awaiting Settlement       2024-01-15   \n",
      "13  LE0006 St. Vincent Home Care, LLC  Awaiting Settlement       2024-01-15   \n",
      "14           LE0004 FC Compassus, LLC  Awaiting Settlement       2024-01-15   \n",
      "15           LE0004 FC Compassus, LLC  Awaiting Settlement       2024-01-15   \n",
      "16           LE0004 FC Compassus, LLC  Awaiting Settlement       2024-01-15   \n",
      "17           LE0004 FC Compassus, LLC  Awaiting Settlement       2024-01-15   \n",
      "18           LE0004 FC Compassus, LLC  Awaiting Settlement       2024-01-15   \n",
      "19  LE0006 St. Vincent Home Care, LLC  Awaiting Settlement       2024-01-15   \n",
      "20           LE0004 FC Compassus, LLC  Awaiting Settlement       2024-01-16   \n",
      "21           LE0004 FC Compassus, LLC  Awaiting Settlement       2024-01-19   \n",
      "22           LE0004 FC Compassus, LLC  Awaiting Settlement       2024-01-19   \n",
      "23  LE0006 St. Vincent Home Care, LLC  Awaiting Settlement       2024-01-19   \n",
      "24           LE0004 FC Compassus, LLC  Awaiting Settlement       2024-01-19   \n",
      "25           LE0004 FC Compassus, LLC  Awaiting Settlement       2024-01-19   \n",
      "\n",
      "    Payment Amount                  Pay Group  \n",
      "0              NaN                        NaN  \n",
      "1              NaN                        NaN  \n",
      "2              NaN                        NaN  \n",
      "3              NaN                        NaN  \n",
      "4              NaN                        NaN  \n",
      "5              NaN                        NaN  \n",
      "6              NaN                        NaN  \n",
      "7              NaN                        NaN  \n",
      "8              NaN                        NaN  \n",
      "9              NaN                        NaN  \n",
      "10          512.73    Weekly Hourly Pay Group  \n",
      "11           25.97    Weekly Hourly Pay Group  \n",
      "12          548.34    Weekly Hourly Pay Group  \n",
      "13           96.77    Weekly Hourly Pay Group  \n",
      "14         1091.45  Weekly Salaried Pay Group  \n",
      "15          263.27    Weekly Hourly Pay Group  \n",
      "16           98.40    Weekly Hourly Pay Group  \n",
      "17         1976.21    Weekly Hourly Pay Group  \n",
      "18          144.48    Weekly Hourly Pay Group  \n",
      "19          999.62    Weekly Hourly Pay Group  \n",
      "20           95.04    Weekly Hourly Pay Group  \n",
      "21         2470.68  History - Week B Salaried  \n",
      "22         1555.86  Weekly Salaried Pay Group  \n",
      "23          805.61  History - Week B Salaried  \n",
      "24         1304.82  Weekly Salaried Pay Group  \n",
      "25         2603.24  Weekly Salaried Pay Group  \n"
     ]
    }
   ],
   "source": [
    "# Specifying the columns I want to display\n",
    "selected_columns = ['Company', 'Status', 'Transaction Date', 'Payment Amount', 'Pay Group']\n",
    "selected_df = df[selected_columns]\n",
    "print(selected_df)"
   ]
  },
  {
   "cell_type": "code",
   "execution_count": 105,
   "id": "ac7f1857",
   "metadata": {},
   "outputs": [
    {
     "name": "stdout",
     "output_type": "stream",
     "text": [
      "                              Company               Status Transaction Date  \\\n",
      "10  LE0006 St. Vincent Home Care, LLC  Awaiting Settlement       2024-01-12   \n",
      "11  LE0006 St. Vincent Home Care, LLC  Awaiting Settlement       2024-01-15   \n",
      "12  LE0006 St. Vincent Home Care, LLC  Awaiting Settlement       2024-01-15   \n",
      "13  LE0006 St. Vincent Home Care, LLC  Awaiting Settlement       2024-01-15   \n",
      "14           LE0004 FC Compassus, LLC  Awaiting Settlement       2024-01-15   \n",
      "15           LE0004 FC Compassus, LLC  Awaiting Settlement       2024-01-15   \n",
      "16           LE0004 FC Compassus, LLC  Awaiting Settlement       2024-01-15   \n",
      "17           LE0004 FC Compassus, LLC  Awaiting Settlement       2024-01-15   \n",
      "18           LE0004 FC Compassus, LLC  Awaiting Settlement       2024-01-15   \n",
      "19  LE0006 St. Vincent Home Care, LLC  Awaiting Settlement       2024-01-15   \n",
      "20           LE0004 FC Compassus, LLC  Awaiting Settlement       2024-01-16   \n",
      "21           LE0004 FC Compassus, LLC  Awaiting Settlement       2024-01-19   \n",
      "22           LE0004 FC Compassus, LLC  Awaiting Settlement       2024-01-19   \n",
      "23  LE0006 St. Vincent Home Care, LLC  Awaiting Settlement       2024-01-19   \n",
      "24           LE0004 FC Compassus, LLC  Awaiting Settlement       2024-01-19   \n",
      "25           LE0004 FC Compassus, LLC  Awaiting Settlement       2024-01-19   \n",
      "\n",
      "    Payment Amount                  Pay Group  \n",
      "10          512.73    Weekly Hourly Pay Group  \n",
      "11           25.97    Weekly Hourly Pay Group  \n",
      "12          548.34    Weekly Hourly Pay Group  \n",
      "13           96.77    Weekly Hourly Pay Group  \n",
      "14         1091.45  Weekly Salaried Pay Group  \n",
      "15          263.27    Weekly Hourly Pay Group  \n",
      "16           98.40    Weekly Hourly Pay Group  \n",
      "17         1976.21    Weekly Hourly Pay Group  \n",
      "18          144.48    Weekly Hourly Pay Group  \n",
      "19          999.62    Weekly Hourly Pay Group  \n",
      "20           95.04    Weekly Hourly Pay Group  \n",
      "21         2470.68  History - Week B Salaried  \n",
      "22         1555.86  Weekly Salaried Pay Group  \n",
      "23          805.61  History - Week B Salaried  \n",
      "24         1304.82  Weekly Salaried Pay Group  \n",
      "25         2603.24  Weekly Salaried Pay Group  \n"
     ]
    }
   ],
   "source": [
    "# Filtering rows where the 'Status' column is 'Awaiting Settlement'\n",
    "awaiting_settlement_df = selected_df[selected_df['Status'] == 'Awaiting Settlement']\n",
    "print(awaiting_settlement_df)"
   ]
  },
  {
   "cell_type": "code",
   "execution_count": 106,
   "id": "f3f7cdea",
   "metadata": {},
   "outputs": [
    {
     "name": "stdout",
     "output_type": "stream",
     "text": [
      "<DatetimeArray>\n",
      "['2024-01-12 00:00:00', '2024-01-15 00:00:00', '2024-01-16 00:00:00',\n",
      " '2024-01-19 00:00:00']\n",
      "Length: 4, dtype: datetime64[ns]\n"
     ]
    }
   ],
   "source": [
    "#Figuring out the unique values that has in Column 'Transaction Date'\n",
    "unique_dates = awaiting_settlement_df ['Transaction Date'].unique()\n",
    "print(unique_dates)"
   ]
  },
  {
   "cell_type": "code",
   "execution_count": 107,
   "id": "4397cad5",
   "metadata": {},
   "outputs": [
    {
     "name": "stdout",
     "output_type": "stream",
     "text": [
      "['Weekly Hourly Pay Group' 'Weekly Salaried Pay Group'\n",
      " 'History - Week B Salaried']\n"
     ]
    }
   ],
   "source": [
    "#Figuring out the unique values that has in Column 'Pay Group' for \"awaiting_settlement_df\"\n",
    "unique_pay_group = awaiting_settlement_df ['Pay Group'].unique()\n",
    "print(unique_pay_group)"
   ]
  },
  {
   "cell_type": "code",
   "execution_count": 108,
   "id": "47106e06",
   "metadata": {},
   "outputs": [
    {
     "name": "stdout",
     "output_type": "stream",
     "text": [
      "['LE0006 St. Vincent Home Care, LLC' 'LE0004 FC Compassus, LLC']\n"
     ]
    }
   ],
   "source": [
    "#Figuring out the unique values that has in Column 'Company' for \"awaiting_settlement_df\"\n",
    "unique_company = awaiting_settlement_df ['Company'].unique()\n",
    "print(unique_company)"
   ]
  },
  {
   "cell_type": "code",
   "execution_count": 109,
   "id": "3cd90e51",
   "metadata": {},
   "outputs": [],
   "source": [
    "# Creating an empty DataFrame to store the results\n",
    "dfs = []"
   ]
  },
  {
   "cell_type": "code",
   "execution_count": 110,
   "id": "806dc9c2",
   "metadata": {},
   "outputs": [],
   "source": [
    "# Loop through unique combinations of 'Transaction Date', 'Company', and 'Pay Group'\n",
    "for date in unique_dates:\n",
    "    for company in unique_company:\n",
    "        for pay_group in unique_pay_group:\n",
    "            # Create conditions for each combination\n",
    "            date_condition = (awaiting_settlement_df['Transaction Date'] == date)\n",
    "            company_condition = (awaiting_settlement_df['Company'] == company)\n",
    "            pay_group_condition = (awaiting_settlement_df['Pay Group'] == pay_group)\n",
    "\n",
    "            # Apply conditions and calculate the sum of 'Payment Amount'\n",
    "            sum_result = awaiting_settlement_df[date_condition & company_condition & pay_group_condition]['Payment Amount'].sum()\n",
    "\n",
    "            # Create a DataFrame for the current combination\n",
    "            temp_df = pd.DataFrame({'Date': [date], 'Company': [company], 'Pay Group': [pay_group], 'Sum': [sum_result]})\n",
    "\n",
    "            # Append the DataFrame to the list\n",
    "            dfs.append(temp_df)\n",
    "\n",
    "# Concatenate all DataFrames in the list\n",
    "result_df = pd.concat(dfs, ignore_index=True)\n"
   ]
  },
  {
   "cell_type": "code",
   "execution_count": 123,
   "id": "088824e6",
   "metadata": {},
   "outputs": [
    {
     "name": "stdout",
     "output_type": "stream",
     "text": [
      "+---------------------+-----------------------------------+---------------------------+---------+\n",
      "|        Date         |              Company              |         Pay Group         |   Sum   |\n",
      "+---------------------+-----------------------------------+---------------------------+---------+\n",
      "| 2024-01-12 00:00:00 | LE0006 St. Vincent Home Care, LLC |  Weekly Hourly Pay Group  | 512.73  |\n",
      "| 2024-01-15 00:00:00 | LE0006 St. Vincent Home Care, LLC |  Weekly Hourly Pay Group  | 1670.7  |\n",
      "| 2024-01-15 00:00:00 |     LE0004 FC Compassus, LLC      |  Weekly Hourly Pay Group  | 2482.36 |\n",
      "| 2024-01-15 00:00:00 |     LE0004 FC Compassus, LLC      | Weekly Salaried Pay Group | 1091.45 |\n",
      "| 2024-01-16 00:00:00 |     LE0004 FC Compassus, LLC      |  Weekly Hourly Pay Group  |  95.04  |\n",
      "| 2024-01-19 00:00:00 | LE0006 St. Vincent Home Care, LLC | History - Week B Salaried | 805.61  |\n",
      "| 2024-01-19 00:00:00 |     LE0004 FC Compassus, LLC      | Weekly Salaried Pay Group | 5463.92 |\n",
      "| 2024-01-19 00:00:00 |     LE0004 FC Compassus, LLC      | History - Week B Salaried | 2470.68 |\n",
      "+---------------------+-----------------------------------+---------------------------+---------+\n"
     ]
    }
   ],
   "source": [
    "# Filter rows where the 'Sum' column is not equal to 0\n",
    "filtered_result_df = result_df[result_df['Sum'] != 0]\n",
    "\n",
    "# Print the filtered DataFrame as a beautiful table\n",
    "print(tabulate(filtered_result_df, headers='keys', tablefmt='pretty', showindex=False))"
   ]
  },
  {
   "cell_type": "code",
   "execution_count": 124,
   "id": "24eac77d",
   "metadata": {},
   "outputs": [],
   "source": [
    "#PAYROLL CONTROL TOTAL SHEET"
   ]
  },
  {
   "cell_type": "code",
   "execution_count": 125,
   "id": "3ccb31d4",
   "metadata": {},
   "outputs": [],
   "source": [
    "#Loading Compassus Payroll Control Sheet \n",
    "control_total_excel_file = '/Users/luisabarros/On demand project/Compassus Payroll Control Totals.xlsx'\n",
    "df_control_total = pd.read_excel(control_total_excel_file)"
   ]
  },
  {
   "cell_type": "code",
   "execution_count": 126,
   "id": "e6e65cdd",
   "metadata": {},
   "outputs": [],
   "source": [
    "#Creating a destination directory \n",
    "destination_dir = '/Users/luisabarros/On demand project'"
   ]
  },
  {
   "cell_type": "code",
   "execution_count": 127,
   "id": "65bfb06d",
   "metadata": {},
   "outputs": [],
   "source": [
    "# Creating a copy of the original Excel file Compassus Payroll Control Totals.xlsx for each unique date\n",
    "for date in unique_dates:\n",
    "    # Create a new Excel file for the current date\n",
    "    new_excel_file = os.path.join(destination_dir, f'Compassus_Payroll_Control_Totals_{str(date)}.xlsx')\n",
    "    # Copying the original Excel file to the new destination\n",
    "    shutil.copy(control_total_excel_file, new_excel_file)\n",
    "    \n",
    "    #Opening the new excel sheet for editing\n",
    "    wb = load_workbook(new_excel_file)\n",
    "    \n",
    "    #Selecting the 'Off-Cycle' sheet\n",
    "    sheet = wb['Off-Cycle']\n",
    "    \n",
    "    # Update the merged cell with the unique date\n",
    "    sheet['B4'] = date\n",
    "    sheet['F4']= date\n",
    "    sheet['J4'] = date\n",
    "    \n",
    "     # Save the changes\n",
    "    wb.save(new_excel_file)\n",
    "    "
   ]
  },
  {
   "cell_type": "code",
   "execution_count": 128,
   "id": "7c54f547",
   "metadata": {},
   "outputs": [
    {
     "name": "stdout",
     "output_type": "stream",
     "text": [
      "Excel sheet copied for Transaction Date 2024-01-19 00:00:00. File saved as: /Users/luisabarros/On demand project/Compassus_Payroll_Control_Totals_2024-01-19 00:00:00.xlsx\n"
     ]
    }
   ],
   "source": [
    "\n",
    "print(f\"Excel sheet copied for Transaction Date {date}. File saved as: {new_excel_file}\")"
   ]
  },
  {
   "cell_type": "code",
   "execution_count": 140,
   "id": "96e54d40",
   "metadata": {},
   "outputs": [],
   "source": [
    "\n"
   ]
  },
  {
   "cell_type": "code",
   "execution_count": null,
   "id": "b7561d00",
   "metadata": {},
   "outputs": [],
   "source": [
    "\n"
   ]
  },
  {
   "cell_type": "code",
   "execution_count": null,
   "id": "5f1d7e27",
   "metadata": {},
   "outputs": [],
   "source": []
  },
  {
   "cell_type": "code",
   "execution_count": null,
   "id": "67436d46",
   "metadata": {},
   "outputs": [],
   "source": []
  }
 ],
 "metadata": {
  "kernelspec": {
   "display_name": "Python 3 (ipykernel)",
   "language": "python",
   "name": "python3"
  },
  "language_info": {
   "codemirror_mode": {
    "name": "ipython",
    "version": 3
   },
   "file_extension": ".py",
   "mimetype": "text/x-python",
   "name": "python",
   "nbconvert_exporter": "python",
   "pygments_lexer": "ipython3",
   "version": "3.11.4"
  }
 },
 "nbformat": 4,
 "nbformat_minor": 5
}
